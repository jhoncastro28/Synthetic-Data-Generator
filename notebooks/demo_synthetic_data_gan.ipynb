{
  "cells": [
    {
      "cell_type": "markdown",
      "metadata": {},
      "source": [
        "# Generador de Datos Sintéticos con GAN\n",
        "\n",
        "Este notebook demuestra el uso completo del sistema de generación de datos sintéticos usando GANs (Generative Adversarial Networks).\n",
        "\n",
        "## Características del Sistema\n",
        "- División automática 80/20 para entrenamiento y validación\n",
        "- Balanceo automático de clases\n",
        "- Métricas de evaluación avanzadas incluyendo CrC1RS\n",
        "- Logging y monitoreo del entrenamiento\n",
        "- Visualizaciones comparativas\n",
        "- Sistema de checkpoints y early stopping\n"
      ]
    },
    {
      "cell_type": "markdown",
      "metadata": {},
      "source": [
        "## 1. Configuración del Entorno\n"
      ]
    },
    {
      "cell_type": "code",
      "execution_count": null,
      "metadata": {},
      "outputs": [],
      "source": [
        "# Importar librerías necesarias\n",
        "import sys\n",
        "import os\n",
        "import numpy as np\n",
        "import pandas as pd\n",
        "import matplotlib.pyplot as plt\n",
        "import seaborn as sns\n",
        "from sklearn.datasets import make_classification, make_regression\n",
        "from sklearn.model_selection import train_test_split\n",
        "\n",
        "# Configurar matplotlib\n",
        "plt.style.use('seaborn-v0_8')\n",
        "sns.set_palette(\"husl\")\n",
        "\n",
        "# Agregar directorio src al path\n",
        "sys.path.append('../src')\n",
        "\n",
        "print(\"Librerías importadas exitosamente!\")\n"
      ]
    }
  ],
  "metadata": {
    "language_info": {
      "name": "python"
    }
  },
  "nbformat": 4,
  "nbformat_minor": 2
}
